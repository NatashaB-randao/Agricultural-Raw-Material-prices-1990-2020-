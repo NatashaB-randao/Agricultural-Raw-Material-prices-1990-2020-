{
 "cells": [
  {
   "cell_type": "code",
   "execution_count": 1,
   "metadata": {},
   "outputs": [],
   "source": [
    "import numpy as np\n",
    "import pandas as pd"
   ]
  },
  {
   "cell_type": "markdown",
   "metadata": {},
   "source": [
    "### Importação do Conjunto de Dados"
   ]
  },
  {
   "cell_type": "code",
   "execution_count": 2,
   "metadata": {},
   "outputs": [],
   "source": [
    "df = pd.read_csv('agricultural_raw_material.csv')"
   ]
  },
  {
   "cell_type": "markdown",
   "metadata": {},
   "source": [
    "### Explorando o Conjunto de Dados"
   ]
  },
  {
   "cell_type": "code",
   "execution_count": 3,
   "metadata": {},
   "outputs": [
    {
     "data": {
      "text/plain": [
       "Month                            0\n",
       "Coarse wool Price               34\n",
       "Coarse wool price % Change      34\n",
       "Copra Price                     22\n",
       "Copra price % Change            22\n",
       "Cotton Price                     0\n",
       "Cotton price % Change            0\n",
       "Fine wool Price                 34\n",
       "Fine wool price % Change        34\n",
       "Hard log Price                   0\n",
       "Hard log price % Change          0\n",
       "Hard sawnwood Price             34\n",
       "Hard sawnwood price % Change    34\n",
       "Hide Price                      34\n",
       "Hide price % change             34\n",
       "Plywood Price                    0\n",
       "Plywood price % Change           0\n",
       "Rubber Price                     0\n",
       "Rubber price % Change            0\n",
       "Softlog Price                   34\n",
       "Softlog price % Change          34\n",
       "Soft sawnwood Price             34\n",
       "Soft sawnwood price % Change    34\n",
       "Wood pulp Price                  1\n",
       "Wood pulp price % Change         1\n",
       "dtype: int64"
      ]
     },
     "execution_count": 3,
     "metadata": {},
     "output_type": "execute_result"
    }
   ],
   "source": [
    "df.info\n",
    "#Verificando valores nulos em cada coluna\n",
    "df.isnull().sum()"
   ]
  }
 ],
 "metadata": {
  "kernelspec": {
   "display_name": "Python 3",
   "language": "python",
   "name": "python3"
  },
  "language_info": {
   "codemirror_mode": {
    "name": "ipython",
    "version": 3
   },
   "file_extension": ".py",
   "mimetype": "text/x-python",
   "name": "python",
   "nbconvert_exporter": "python",
   "pygments_lexer": "ipython3",
   "version": "3.12.0"
  }
 },
 "nbformat": 4,
 "nbformat_minor": 2
}
